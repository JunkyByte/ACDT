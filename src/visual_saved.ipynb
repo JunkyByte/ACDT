{
 "cells": [
  {
   "cell_type": "code",
   "execution_count": 1,
   "id": "weird-trance",
   "metadata": {},
   "outputs": [],
   "source": [
    "# %matplotlib inline\n",
    "%matplotlib qt \n",
    "import pickle\n",
    "import numpy as np\n",
    "from sklearn.neighbors import NearestNeighbors\n",
    "import sklearn.neighbors._unsupervised\n",
    "from draw_utils import draw_3d_clusters, draw_spiral_clusters\n",
    "plt.rcParams['figure.figsize'] = [15, 10]"
   ]
  },
  {
   "cell_type": "code",
   "execution_count": 2,
   "id": "union-pipeline",
   "metadata": {},
   "outputs": [
    {
     "data": {
      "text/plain": [
       "dict_keys([99, 98, 97, 96, 95, 94, 93, 92, 91, 90, 89, 88, 87, 86, 85, 84, 83, 82, 81, 80, 79, 78, 77, 76, 75, 74, 73, 72, 71, 70, 69, 68, 67, 66, 65, 64, 63, 62, 61, 60, 59, 58, 57, 56, 55, 54, 53, 52, 51, 50, 49, 48, 47, 46, 45, 44, 43, 42, 41, 40, 39, 38, 37, 36, 35, 34, 33, 32, 31, 30, 29, 28, 27, 26, 25, 24, 23, 22, 21, 20, 19, 18, 17, 16, 15, 14, 13, 12])"
      ]
     },
     "execution_count": 2,
     "metadata": {},
     "output_type": "execute_result"
    }
   ],
   "source": [
    "with open('./saved/ckpt.pickle', 'rb') as f:\n",
    "    x = pickle.load(f)\n",
    "x.keys()"
   ]
  },
  {
   "cell_type": "code",
   "execution_count": 6,
   "id": "stuffed-climb",
   "metadata": {
    "scrolled": false
   },
   "outputs": [
    {
     "name": "stdout",
     "output_type": "stream",
     "text": [
      "(100,) (100,) (100,)\n",
      "(100, 100)\n",
      "(100,) (100,) (100,)\n",
      "(100, 100)\n",
      "(100,) (100,) (100,)\n",
      "(100, 100)\n",
      "(100,) (100,) (100,)\n",
      "(100, 100)\n",
      "(100,) (100,) (100,)\n",
      "(100, 100)\n",
      "(30,) (30,) (30,)\n",
      "(30, 30)\n",
      "(100,) (100,) (100,)\n",
      "(100, 100)\n",
      "(96,) (96,) (96,)\n",
      "(96, 96)\n",
      "(100,) (100,) (100,)\n",
      "(100, 100)\n",
      "(100,) (100,) (100,)\n",
      "(100, 100)\n",
      "(78,) (78,) (78,)\n",
      "(78, 78)\n",
      "(30,) (30,) (30,)\n",
      "(30, 30)\n"
     ]
    }
   ],
   "source": [
    "k = 12\n",
    "C = x[k]['C']\n",
    "if C[0].X[0].shape[0] == 2:\n",
    "    draw_spiral_clusters(C, k=x[k]['knn'].n_neighbors)\n",
    "elif C[0].X[0].shape[0] == 3:\n",
    "    draw_3d_clusters(C)"
   ]
  },
  {
   "cell_type": "code",
   "execution_count": 5,
   "id": "aggressive-liechtenstein",
   "metadata": {},
   "outputs": [],
   "source": [
    "errors = {}\n",
    "for it in x.keys():\n",
    "    e = []\n",
    "    C = x[it]['C']\n",
    "    for Ci in C:\n",
    "        F = Ci.F\n",
    "        P = np.dot(F, F.T)\n",
    "        samples = np.array(Ci.X).T\n",
    "        mean_pos = np.mean(samples, axis=1, keepdims=True)\n",
    "        s = samples - mean_pos\n",
    "\n",
    "        proj = np.dot(P, s)\n",
    "        e.append((s - proj)**2)\n",
    "    errors[it] = np.mean(np.concatenate(e, axis=1), axis=(0, 1))\n",
    "\n",
    "plt.semilogy(list(errors.keys()), list(errors.values()))\n",
    "plt.show()"
   ]
  }
 ],
 "metadata": {
  "kernelspec": {
   "display_name": "Python 3",
   "language": "python",
   "name": "python3"
  },
  "language_info": {
   "codemirror_mode": {
    "name": "ipython",
    "version": 3
   },
   "file_extension": ".py",
   "mimetype": "text/x-python",
   "name": "python",
   "nbconvert_exporter": "python",
   "pygments_lexer": "ipython3",
   "version": "3.7.10"
  }
 },
 "nbformat": 4,
 "nbformat_minor": 5
}
